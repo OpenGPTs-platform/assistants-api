{
 "cells": [
  {
   "cell_type": "code",
   "execution_count": null,
   "metadata": {},
   "outputs": [],
   "source": [
    "!pip uninstall openai -y\n",
    "!pip install git+https://github.com/OpenGPTs-platform/openai-python"
   ]
  },
  {
   "cell_type": "markdown",
   "metadata": {},
   "source": [
    "## Configure Client"
   ]
  },
  {
   "cell_type": "code",
   "execution_count": null,
   "metadata": {},
   "outputs": [],
   "source": [
    "from openai import OpenAI\n",
    "import json\n",
    "\n",
    "client = OpenAI(\n",
    "    base_url=\"http://localhost:8000\",\n",
    "    api_key=\"api_key\",\n",
    ")"
   ]
  },
  {
   "cell_type": "code",
   "execution_count": null,
   "metadata": {},
   "outputs": [],
   "source": [
    "client.ops.web_retrieval.delete()"
   ]
  },
  {
   "cell_type": "markdown",
   "metadata": {},
   "source": [
    "## Base Demo Without Tools"
   ]
  },
  {
   "cell_type": "code",
   "execution_count": null,
   "metadata": {},
   "outputs": [],
   "source": [
    "assistant = client.beta.assistants.create(\n",
    "    instructions=\"\"\"Your job is to assist the assume the role of a news provider and inform the user of current news.\n",
    "Always direct them to where they can learn more by providing the corresponding link.\"\"\",  # noqa\n",
    "    name=\"News Provider Assistant\",\n",
    "    model=\"gpt-3.5-turbo\",\n",
    ")"
   ]
  },
  {
   "cell_type": "code",
   "execution_count": null,
   "metadata": {},
   "outputs": [],
   "source": [
    "thread = client.beta.threads.create(\n",
    "    messages=[\n",
    "        {\n",
    "            \"role\": \"user\",\n",
    "            \"content\": \"Show me interesting space themed news from ycombinator.\",  # noqa\n",
    "        },\n",
    "    ],\n",
    ")\n",
    "run = client.beta.threads.runs.create_and_poll(\n",
    "    thread_id=thread.id,\n",
    "    assistant_id=assistant.id,\n",
    ")\n",
    "messages = client.beta.threads.messages.list(\n",
    "    thread_id=thread.id, order='desc'\n",
    ")\n",
    "print(json.dumps(messages.model_dump(), indent=2))"
   ]
  },
  {
   "cell_type": "markdown",
   "metadata": {},
   "source": [
    "## Demo With `web_retireval` Tool"
   ]
  },
  {
   "cell_type": "code",
   "execution_count": null,
   "metadata": {},
   "outputs": [],
   "source": [
    "assistant = client.beta.assistants.update(\n",
    "    assistant_id=assistant.id,\n",
    "    tools=[\n",
    "        {\"type\": \"web_retrieval\"}\n",
    "    ],\n",
    ")"
   ]
  },
  {
   "cell_type": "code",
   "execution_count": null,
   "metadata": {},
   "outputs": [],
   "source": [
    "crawl = client.ops.web_retrieval.crawl_and_upsert(\n",
    "    root_urls=[\"https://news.ycombinator.com/\"],\n",
    "    max_depth=1,\n",
    "    description=\"Live news from ycombinator, a news feed centered on science and technology.\",\n",
    "    constrain_to_root_domain=False,\n",
    ")\n",
    "successful_crawls = [ci for ci in crawl.crawl_infos if ci.error is None]\n",
    "print(\"Successful crawls: \", len(successful_crawls))\n",
    "print(crawl.model_dump_json(indent=2))\n"
   ]
  },
  {
   "cell_type": "code",
   "execution_count": null,
   "metadata": {},
   "outputs": [],
   "source": [
    "thread = client.beta.threads.create(\n",
    "    messages=[\n",
    "        {\n",
    "            \"role\": \"user\",\n",
    "            \"content\": \"Show me interesting space themed news from ycombinator.\",  # noqa\n",
    "        },\n",
    "    ],\n",
    ")\n",
    "run = client.beta.threads.runs.create_and_poll(\n",
    "    thread_id=thread.id,\n",
    "    assistant_id=assistant.id,\n",
    ")\n",
    "messages = client.beta.threads.messages.list(\n",
    "    thread_id=thread.id, order='desc'\n",
    ")\n",
    "print(json.dumps(messages.model_dump(), indent=2))"
   ]
  },
  {
   "cell_type": "markdown",
   "metadata": {},
   "source": [
    "## Demo With Tools `web_retireval` and `file_search`"
   ]
  },
  {
   "cell_type": "code",
   "execution_count": null,
   "metadata": {},
   "outputs": [],
   "source": [
    "file = client.files.create(\n",
    "    purpose=\"assistants\",\n",
    "    file=open(\"../assistants_api/assets/my_information.txt\", \"rb\"),\n",
    ")\n",
    "vector_store = client.beta.vector_stores.create(\n",
    "    name=\"Information About Me\",\n",
    "    file_ids=[file.id],\n",
    ")\n",
    "assistant = client.beta.assistants.update(\n",
    "    assistant_id=assistant.id,\n",
    "    instructions=\"\"\"Your job is to assist the assume the role of a news provider and inform the user of current news.\n",
    "Always direct them to where they can learn more by providing the corresponding link.\n",
    "You must begin by searching through the users files to find information about them.\n",
    "Only then can you can look for relevant news.\"\"\",\n",
    "    tools=[\n",
    "        {\"type\": \"web_retrieval\"},\n",
    "        {\"type\": \"file_search\"}\n",
    "    ],\n",
    "    tool_resources={\n",
    "        \"file_search\": {\n",
    "            \"vector_store_ids\": [vector_store.id]\n",
    "        }\n",
    "    }\n",
    ")\n",
    "    "
   ]
  },
  {
   "cell_type": "code",
   "execution_count": null,
   "metadata": {},
   "outputs": [],
   "source": [
    "thread = client.beta.threads.create(\n",
    "    messages=[\n",
    "        {\n",
    "            \"role\": \"user\",\n",
    "            \"content\": \"Find me interesting news.\",  # noqa\n",
    "        },\n",
    "    ],\n",
    ")\n",
    "run = client.beta.threads.runs.create_and_poll(\n",
    "    thread_id=thread.id,\n",
    "    assistant_id=assistant.id,\n",
    ")\n",
    "messages = client.beta.threads.messages.list(\n",
    "    thread_id=thread.id, order='desc'\n",
    ")\n",
    "print(json.dumps(messages.model_dump(), indent=2))"
   ]
  }
 ],
 "metadata": {
  "kernelspec": {
   "display_name": ".venv",
   "language": "python",
   "name": "python3"
  },
  "language_info": {
   "codemirror_mode": {
    "name": "ipython",
    "version": 3
   },
   "file_extension": ".py",
   "mimetype": "text/x-python",
   "name": "python",
   "nbconvert_exporter": "python",
   "pygments_lexer": "ipython3",
   "version": "3.10.2"
  }
 },
 "nbformat": 4,
 "nbformat_minor": 2
}
